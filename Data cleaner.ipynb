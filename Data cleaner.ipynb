{
 "cells": [
  {
   "cell_type": "code",
   "execution_count": 19,
   "id": "0857e4c7-b436-40e7-8256-242df612e892",
   "metadata": {},
   "outputs": [
    {
     "name": "stdout",
     "output_type": "stream",
     "text": [
      "2872\n",
      "7\n",
      "2872\n",
      "['09-04-2023 10:54:42' '09-04-2023 10:54:45' '09-04-2023 10:54:48'\n",
      " '09-04-2023 10:54:51']\n"
     ]
    }
   ],
   "source": [
    "# Import Libraries # \n",
    "import pandas as pd\n",
    "import numpy as np\n",
    "from datetime import datetime\n",
    "import matplotlib as plt\n",
    "\n",
    "# Load spreadsheet # \n",
    "timetrace = pd.read_excel('Anomaly Cleaning 1.xlsx')\n",
    "time_interval = timetrace.shape[0]\n",
    "print(time_interval)\n",
    "# Size sheet\n",
    "data = timetrace.to_numpy()\n",
    "size = data.size\n",
    "col = int(size/len(data))\n",
    "row = len(data)\n",
    "print(col)\n",
    "print(row)\n",
    "rowtrun = row - 11\n",
    "print(data[1:5,0])\n",
    "\n",
    "# Time converter\n",
    "def convert_time(time_strings):\n",
    "    time_format = \"%m-%d-%Y %H:%M:%S\"\n",
    "    base_time = datetime.strptime(time_strings[0], time_format)\n",
    "    \n",
    "    time_in_minutes = [(datetime.strptime(t, time_format) - base_time).total_seconds() / 60 for t in time_strings]\n",
    "    return time_in_minutes\n",
    "\n",
    "# Steady state checker presently set to 20 points - Work in Progress!!\n",
    "def steady_state(range1, threshold, timeint, threshold2, threshold3):\n",
    "    g = len(range1) - 1\n",
    "    steadystatecount = 0\n",
    "    for i in range(g):\n",
    "        p = i + 1\n",
    "        grad = (range1[p] - range1[i])/ (timeint[p] - timeint[i])\n",
    "        delta = range1[p] - range1[i]\n",
    "        if abs(grad) > abs(threshold) or abs(delta) > abs(threshold2):\n",
    "            steadystatecount = 0\n",
    "            continue\n",
    "        else:\n",
    "            steadystatecount += 1\n",
    "        \n",
    "        if steadystatecount > 18:\n",
    "            totval = 0\n",
    "            steadystateval = 0\n",
    "            r = i - 20\n",
    "            for k in range(r,i):\n",
    "                totval += range1[r]\n",
    "                steadystateval = totval/20\n",
    "            return [True, steadystateval]"
   ]
  },
  {
   "cell_type": "code",
   "execution_count": 23,
   "id": "c5db07d1-cc70-4aef-a584-8948ab015eb9",
   "metadata": {},
   "outputs": [
    {
     "name": "stdout",
     "output_type": "stream",
     "text": [
      "['FT109', 45, 2, '09-04-2023 10:56:54']\n",
      "               Unnamed: 0  Unnamed: 1  Unnamed: 2 Unnamed: 3 Unnamed: 4  \\\n",
      "0          Log Time Stamp       FT108       FT109      LT108     PT115a   \n",
      "1     09-04-2023 10:54:42   36.873375   49.902122  78.575577   0.845031   \n",
      "2     09-04-2023 10:54:45   62.339409    92.44825  78.491463   0.845071   \n",
      "3     09-04-2023 10:54:48   74.283493   97.560913  78.381752   0.845097   \n",
      "4     09-04-2023 10:54:51   76.812111   98.606979  78.243423   0.845105   \n",
      "...                   ...         ...         ...        ...        ...   \n",
      "2867  09-04-2023 16:31:12  168.747696  182.325134   49.29702   0.858024   \n",
      "2868  09-04-2023 16:31:15  116.160439  124.606903  49.693413   0.858028   \n",
      "2869  09-04-2023 16:31:18   85.759872  104.252602  50.096851   0.857989   \n",
      "2870  09-04-2023 16:31:21   78.407364  100.957733  50.516903   0.857974   \n",
      "2871  09-04-2023 16:31:24   76.563789  100.199409  50.906185   0.857933   \n",
      "\n",
      "     Unnamed: 5    Unnamed: 6  \n",
      "0        PT115b  Pump Speed/%  \n",
      "1      1.319975             5  \n",
      "2       1.35648             5  \n",
      "3      1.370889             5  \n",
      "4      1.375357             5  \n",
      "...         ...           ...  \n",
      "2867   1.538262            10  \n",
      "2868   1.440122             5  \n",
      "2869   1.407034             5  \n",
      "2870   1.400839             5  \n",
      "2871   1.398546             5  \n",
      "\n",
      "[2405 rows x 7 columns]\n"
     ]
    }
   ],
   "source": [
    "# Find anomalous windows\n",
    "# Initialise arrays\n",
    "anoms = []\n",
    "foptdstarts = []\n",
    "foptdends = []\n",
    "\n",
    "# Find all possible anomalies: Change range to (1,col), j range to (31,rowtrun) when done, adjust values 30, 31, 5, etc based on steady state length\n",
    "for i in range(2,3):\n",
    "    sum = 0\n",
    "    for j in range(31,rowtrun):\n",
    "        q = j - 20\n",
    "\n",
    "        # Detect non steady state points\n",
    "        timerange = convert_time(data[q:j,0])\n",
    "        c = data[q:j,i].tolist()\n",
    "        state = steady_state(c, 100, timerange, 10, 100)\n",
    "        if state == None:\n",
    "            anoms.append([data[0,i],j,i,data[j,0]])\n",
    "\n",
    "print(anoms[0])\n",
    "timetrace2 = timetrace\n",
    "for i in range(len(anoms)):\n",
    "    anomrow = anoms[i][1] \n",
    "    timetrace2 = timetrace2.drop(timetrace.index[anomrow])\n",
    "\n",
    "print(timetrace2)\n",
    "timetrace2.to_excel(r'C:\\\\Users\\\\jonat\\\\Data.xlsx', index=False)"
   ]
  },
  {
   "cell_type": "code",
   "execution_count": null,
   "id": "f7255ec7-fc30-4e2a-a46d-38dae7bf3ec3",
   "metadata": {},
   "outputs": [],
   "source": []
  }
 ],
 "metadata": {
  "kernelspec": {
   "display_name": "Python 3 (ipykernel)",
   "language": "python",
   "name": "python3"
  },
  "language_info": {
   "codemirror_mode": {
    "name": "ipython",
    "version": 3
   },
   "file_extension": ".py",
   "mimetype": "text/x-python",
   "name": "python",
   "nbconvert_exporter": "python",
   "pygments_lexer": "ipython3",
   "version": "3.11.3"
  }
 },
 "nbformat": 4,
 "nbformat_minor": 5
}
